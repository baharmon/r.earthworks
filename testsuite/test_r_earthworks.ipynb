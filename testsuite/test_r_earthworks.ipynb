{
 "cells": [
  {
   "cell_type": "markdown",
   "metadata": {},
   "source": [
    "# r.earthworks\n",
    "This notebook demonstrates the tests for r.earthworks.\n",
    "\n",
    "## Setup\n",
    "Start a GRASS session in the North Carolina basic sample dataset."
   ]
  },
  {
   "cell_type": "code",
   "execution_count": 7,
   "metadata": {},
   "outputs": [],
   "source": [
    "import os\n",
    "import json\n",
    "import subprocess\n",
    "import sys\n",
    "\n",
    "# ask GRASS GIS where its Python packages are\n",
    "sys.path.append(\n",
    "    subprocess.check_output([\"grass\", \"--config\", \"python_path\"], text=True).strip()\n",
    ")\n",
    "\n",
    "# import GRASS packages\n",
    "import grass.script as gs\n",
    "import grass.jupyter as gj\n",
    "\n",
    "# start GRASS session\n",
    "session = gj.init(\"~/grassdata/nc_basic_spm_grass7/user1\")"
   ]
  },
  {
   "cell_type": "markdown",
   "metadata": {},
   "source": [
    "## Install\n",
    "Install the addon."
   ]
  },
  {
   "cell_type": "code",
   "execution_count": 8,
   "metadata": {},
   "outputs": [],
   "source": [
    "# install addon\n",
    "gs.run_command(\n",
    "    \"g.extension\",\n",
    "    extension=\"r.earthworks\",\n",
    "    url=\"https://github.com/baharmon/r.earthworks\"\n",
    ")"
   ]
  },
  {
   "cell_type": "markdown",
   "metadata": {},
   "source": [
    "## Testing\n",
    "Set the computational region and generate a flat terrain with map algebra."
   ]
  },
  {
   "cell_type": "code",
   "execution_count": 9,
   "metadata": {},
   "outputs": [],
   "source": [
    "# setup\n",
    "gs.run_command('g.region', n=10, e=10, s=0, w=0, res=1)\n",
    "gs.mapcalc('test_input = 0')"
   ]
  },
  {
   "cell_type": "markdown",
   "metadata": {},
   "source": [
    "### Fill Operation\n",
    "Model a peak with a fill operation."
   ]
  },
  {
   "cell_type": "code",
   "execution_count": 10,
   "metadata": {},
   "outputs": [
    {
     "name": "stdout",
     "output_type": "stream",
     "text": [
      "fill operation\n"
     ]
    },
    {
     "data": {
      "image/png": "[encoded data removed]",
      "text/plain": [
       "<IPython.core.display.Image object>"
      ]
     },
     "execution_count": 10,
     "metadata": {},
     "output_type": "execute_result"
    }
   ],
   "source": [
    "\n",
    "# test fill\n",
    "gs.run_command(\n",
    "    'r.earthworks',\n",
    "    elevation='test_input',\n",
    "    earthworks='test_output',\n",
    "    coordinates=[5,5],\n",
    "    operation='fill',\n",
    "    z=1,\n",
    "    flat=2,\n",
    "    rate=0.5\n",
    ")\n",
    "print('fill operation')\n",
    "\n",
    "# visualize\n",
    "m = gj.Map(width=100)\n",
    "m.d_rast(map=\"test_output\")\n",
    "m.show()"
   ]
  },
  {
   "cell_type": "markdown",
   "metadata": {},
   "source": [
    "### Cut Operation\n",
    "Model a peak with a fill operation."
   ]
  },
  {
   "cell_type": "code",
   "execution_count": 11,
   "metadata": {},
   "outputs": [
    {
     "name": "stdout",
     "output_type": "stream",
     "text": [
      "cut operation\n"
     ]
    },
    {
     "data": {
      "image/png": "[encoded data removed]",
      "text/plain": [
       "<IPython.core.display.Image object>"
      ]
     },
     "execution_count": 11,
     "metadata": {},
     "output_type": "execute_result"
    }
   ],
   "source": [
    "# test cut\n",
    "gs.run_command(\n",
    "    'r.earthworks',\n",
    "    elevation='test_input',\n",
    "    earthworks='test_output',\n",
    "    coordinates=[5,5],\n",
    "    operation='cut',\n",
    "    z=-1,\n",
    "    flat=2,\n",
    "    rate=0.5\n",
    ")\n",
    "print('cut operation')\n",
    "\n",
    "# visualize\n",
    "m = gj.Map(width=100)\n",
    "m.d_rast(map=\"test_output\")\n",
    "m.show()"
   ]
  },
  {
   "cell_type": "markdown",
   "metadata": {},
   "source": [
    "### Cut & Fill Operation\n",
    "Model a pit and a peak with a cut-fill operation."
   ]
  },
  {
   "cell_type": "code",
   "execution_count": 12,
   "metadata": {},
   "outputs": [
    {
     "name": "stdout",
     "output_type": "stream",
     "text": [
      "cut & fill operation\n"
     ]
    },
    {
     "data": {
      "image/png": "[encoded data removed]",
      "text/plain": [
       "<IPython.core.display.Image object>"
      ]
     },
     "execution_count": 12,
     "metadata": {},
     "output_type": "execute_result"
    }
   ],
   "source": [
    "# test cut & fill\n",
    "gs.run_command(\n",
    "    'r.earthworks',\n",
    "    elevation='test_input',\n",
    "    earthworks='test_output',\n",
    "    coordinates=[3,3,7,7],\n",
    "    operation='cutfill',\n",
    "    z=[-1,1],\n",
    "    flat=1,\n",
    "    rate=0.5\n",
    ")\n",
    "print('cut & fill operation')\n",
    "\n",
    "# visualize\n",
    "m = gj.Map(width=100)\n",
    "m.d_rast(map=\"test_output\")\n",
    "m.show()"
   ]
  }
 ],
 "metadata": {
  "kernelspec": {
   "display_name": "Python 3 (ipykernel)",
   "language": "python",
   "name": "python3"
  },
  "language_info": {
   "codemirror_mode": {
    "name": "ipython",
    "version": 3
   },
   "file_extension": ".py",
   "mimetype": "text/x-python",
   "name": "python",
   "nbconvert_exporter": "python",
   "pygments_lexer": "ipython3",
   "version": "3.12.8"
  }
 },
 "nbformat": 4,
 "nbformat_minor": 4
}
